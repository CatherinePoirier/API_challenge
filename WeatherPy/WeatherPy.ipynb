{
 "cells": [
  {
   "cell_type": "markdown",
   "metadata": {},
   "source": [
    "# WeatherPy\n",
    "----\n",
    "\n",
    "#### Note\n",
    "* Instructions have been included for each segment. You do not have to follow them exactly, but they are included to help you think through the steps."
   ]
  },
  {
   "cell_type": "code",
   "execution_count": 34,
   "metadata": {
    "scrolled": true
   },
   "outputs": [],
   "source": [
    "# Dependencies and Setup\n",
    "import matplotlib.pyplot as plt\n",
    "import pandas as pd\n",
    "import numpy as np\n",
    "import requests\n",
    "import time\n",
    "from time import gmtime, strftime \n",
    "from scipy.stats import linregress\n",
    "from pprint import pprint\n",
    "import json\n",
    "\n",
    "# Import API key\n",
    "from api_keys import weather_api_key\n",
    "\n",
    "# Incorporated citipy to determine city based on latitude and longitude\n",
    "from citipy import citipy\n",
    "\n",
    "#added for export do not know if needed\n",
    "#import os\n",
    "#import csv\n",
    "#output_path=os.path(\"output_data\", \"cities.csv\")\n",
    "\n",
    "#Output File (CSV) from start file below\n",
    "#output_data_file = (\"output_data/cities.csv\", header=True, Index=True\n",
    "\n",
    "# Range of latitudes and longitudes\n",
    "lat_range = (-90, 90)\n",
    "lng_range = (-180, 180)"
   ]
  },
  {
   "cell_type": "markdown",
   "metadata": {},
   "source": [
    "## Generate Cities List"
   ]
  },
  {
   "cell_type": "code",
   "execution_count": 35,
   "metadata": {},
   "outputs": [
    {
     "data": {
      "text/plain": [
       "641"
      ]
     },
     "execution_count": 35,
     "metadata": {},
     "output_type": "execute_result"
    }
   ],
   "source": [
    "# List for holding lat_lngs and cities\n",
    "lat_lngs = []\n",
    "cities = []\n",
    "\n",
    "# Create a set of random lat and lng combinations\n",
    "lats = np.random.uniform(lat_range[0], lat_range[1], size=1500)\n",
    "lngs = np.random.uniform(lng_range[0], lng_range[1], size=1500)\n",
    "lat_lngs = zip(lats, lngs)\n",
    "\n",
    "# Identify nearest city for each lat, lng combination\n",
    "for lat_lng in lat_lngs:\n",
    "    city = citipy.nearest_city(lat_lng[0], lat_lng[1]).city_name\n",
    "    \n",
    "    # If the city is unique, then add it to a our cities list\n",
    "    if city not in cities:\n",
    "        cities.append(city)\n",
    "\n",
    "# Print the city count to confirm sufficient count\n",
    "len(cities)\n",
    "#cities\n"
   ]
  },
  {
   "cell_type": "raw",
   "metadata": {},
   "source": [
    "### Perform API Calls\n",
    "* Perform a weather check on each city using a series of successive API calls.\n",
    "* Include a print log of each city as it'sbeing processed (with the city number and city name).\n"
   ]
  },
  {
   "cell_type": "code",
   "execution_count": 36,
   "metadata": {},
   "outputs": [
    {
     "name": "stdout",
     "output_type": "stream",
     "text": [
      "The city_id for Ushuaia is 3833367\n",
      "The city_id for Raymond is 4976361\n",
      "The city_id for Sinnai is 6539309\n",
      "The city_id for Nikolskoye is 546105\n",
      "The city_id for San Cristobal is 3628473\n",
      "The city_id for Busselton is 2075265\n",
      "The city_id for Hailar is 2037078\n",
      "The city_id for Mataura is 6201424\n",
      "CITY NOT FOUND.\n",
      "The city_id for Rikitea is 4030556\n",
      "The city_id for Severo-Kuril'sk is 2121385\n",
      "The city_id for Takoradze is 2294915\n",
      "The city_id for Albany is 5106841\n",
      "The city_id for Rome is 5134295\n",
      "The city_id for Santa Isabel Rio Negro is 3662489\n"
     ]
    }
   ],
   "source": [
    "url=\"https://api.openweathermap.org/data/2.5/weather?\"\n",
    "#units=\"imperial\"\n",
    "\n",
    "lat=[]\n",
    "lng=[]\n",
    "humidity=[]\n",
    "max_temp=[]\n",
    "city_id=[]\n",
    "cloudiness=[]\n",
    "country=[]\n",
    "dt=[]\n",
    "wind_speed=[]\n",
    "city_name=[]\n",
    "\n",
    "index_count=0\n",
    "for each_city in cities[0:15]:\n",
    "    each_city=each_city\n",
    "    query_url = url + \"&q=\" + each_city + \"&appid=\" + weather_api_key + \"&units=imperial\"\n",
    "    response = requests.get(query_url).json()\n",
    "\n",
    "    try:\n",
    " \n",
    "       #print([each_city])\n",
    "       #print(f' )\n",
    "       lat.append(response['coord']['lat'])\n",
    "       #print(f'The latitude is {lat} for {each_city}  ')\n",
    "       lng.append(response['coord']['lon'])\n",
    "       #print(f'The Longitude is {lng} for {each_city} ')\n",
    "       humidity.append(response['main']['humidity'])\n",
    "       #print(f'The humidity is {humidity} for {each_city} ')\n",
    "       max_temp.append(response['main']['temp_max'])\n",
    "       #print(f'The max_temp is {max_temp} for {each_city} ')\n",
    "       city_id.append(response['id'])\n",
    "       #print(f'The city_id. is {city_id} for {each_city} ')\n",
    "       city_name.append(response['name'])\n",
    "       #print(f'The city_name is {city_name} for {each_city} ')\n",
    "       cloudiness.append(response['clouds']['all'])\n",
    "       #print(f'The cloudiness is {cloudiness} for {each_city} ') \n",
    "       country.append(response['sys']['country'])\n",
    "       #print(f'The country is {country} for {each_city} ') \n",
    "       dt.append(response['dt'])\n",
    "       #print(f'The date is {dt} for {each_city} ')  \n",
    "       wind_speed.append(response['wind']['speed'])\n",
    "       #print(f'The wind_speed is {wind_speed} for {each_city} ') \n",
    "       print(f'The city_id for {city_name[index_count]} is {city_id[index_count]}')\n",
    "       index_count=index_count+1\n",
    "    except KeyError:\n",
    "             print(\"CITY NOT FOUND.\")\n",
    "            \n",
    "\n"
   ]
  },
  {
   "cell_type": "markdown",
   "metadata": {},
   "source": [
    "### Convert Raw Data to DataFrame\n",
    "* Export the city data into a .csv.\n",
    "* Display the DataFrame"
   ]
  },
  {
   "cell_type": "code",
   "execution_count": 37,
   "metadata": {},
   "outputs": [
    {
     "data": {
      "text/plain": [
       "City_Id       14\n",
       "City          14\n",
       "Cloudiness    14\n",
       "Country       14\n",
       "Date          14\n",
       "Humidity      14\n",
       "Lat           14\n",
       "lng           14\n",
       "Max Temp      14\n",
       "Wind Speed    14\n",
       "dtype: int64"
      ]
     },
     "execution_count": 37,
     "metadata": {},
     "output_type": "execute_result"
    }
   ],
   "source": [
    "#Creates a DataFrame\n",
    "weather_dict = {\n",
    "    \"City_Id\": city_id,\n",
    "    \"City\": city_name,\n",
    "    \"Cloudiness\": cloudiness,\n",
    "    \"Country\": country,\n",
    "    \"Date\": dt,\n",
    "    \"Humidity\": humidity,\n",
    "    \"Lat\": lat,\n",
    "    \"lng\": lng,\n",
    "    \"Max Temp\": max_temp,\n",
    "    \"Wind Speed\": wind_speed\n",
    "}\n",
    "weather_data_df=pd.DataFrame(weather_dict)\n",
    "weather_data_df.head()\n",
    "weather_data_df.count()\n",
    "\n",
    "\n",
    "#output_data_file = \"output_data/city_output.csv\"\n"
   ]
  },
  {
   "cell_type": "code",
   "execution_count": 38,
   "metadata": {},
   "outputs": [
    {
     "name": "stdout",
     "output_type": "stream",
     "text": [
      "{'base': 'stations',\n",
      " 'clouds': {'all': 99},\n",
      " 'cod': 200,\n",
      " 'coord': {'lat': -0.4139, 'lon': -65.0192},\n",
      " 'dt': 1611762530,\n",
      " 'id': 3662489,\n",
      " 'main': {'feels_like': 91.78,\n",
      "          'grnd_level': 1006,\n",
      "          'humidity': 52,\n",
      "          'pressure': 1010,\n",
      "          'sea_level': 1010,\n",
      "          'temp': 88.11,\n",
      "          'temp_max': 88.11,\n",
      "          'temp_min': 88.11},\n",
      " 'name': 'Santa Isabel Rio Negro',\n",
      " 'sys': {'country': 'BR', 'sunrise': 1611743323, 'sunset': 1611787009},\n",
      " 'timezone': -14400,\n",
      " 'visibility': 10000,\n",
      " 'weather': [{'description': 'overcast clouds',\n",
      "              'icon': '04d',\n",
      "              'id': 804,\n",
      "              'main': 'Clouds'}],\n",
      " 'wind': {'deg': 83, 'speed': 5.5}}\n"
     ]
    }
   ],
   "source": [
    "pprint(response)"
   ]
  },
  {
   "cell_type": "code",
   "execution_count": 39,
   "metadata": {},
   "outputs": [],
   "source": [
    "\n",
    "weather_data_df.to_csv(\"output_data/cities.csv\", header=True, index=False)"
   ]
  },
  {
   "cell_type": "markdown",
   "metadata": {},
   "source": [
    "## Inspect the data and remove the cities where the humidity > 100%.\n",
    "----\n",
    "Skip this step if there are no cities that have humidity > 100%. "
   ]
  },
  {
   "cell_type": "code",
   "execution_count": 40,
   "metadata": {},
   "outputs": [
    {
     "data": {
      "text/plain": [
       "City_Id       14\n",
       "City          14\n",
       "Cloudiness    14\n",
       "Country       14\n",
       "Date          14\n",
       "Humidity      14\n",
       "Lat           14\n",
       "lng           14\n",
       "Max Temp      14\n",
       "Wind Speed    14\n",
       "dtype: int64"
      ]
     },
     "execution_count": 40,
     "metadata": {},
     "output_type": "execute_result"
    }
   ],
   "source": [
    "clean_city_data=weather_data_df.loc[weather_data_df['Humidity'] <= 100]\n",
    "clean_city_data.count()"
   ]
  },
  {
   "cell_type": "code",
   "execution_count": 41,
   "metadata": {},
   "outputs": [
    {
     "data": {
      "text/plain": [
       "City_Id       14\n",
       "City          14\n",
       "Cloudiness    14\n",
       "Country       14\n",
       "Date          14\n",
       "Humidity      14\n",
       "Lat           14\n",
       "lng           14\n",
       "Max Temp      14\n",
       "Wind Speed    14\n",
       "dtype: int64"
      ]
     },
     "execution_count": 41,
     "metadata": {},
     "output_type": "execute_result"
    }
   ],
   "source": [
    "clean_city_data=clean_city_data.dropna(how='any')\n",
    "clean_city_data.count()"
   ]
  },
  {
   "cell_type": "code",
   "execution_count": 42,
   "metadata": {},
   "outputs": [],
   "source": [
    "#  Get the indices of cities that have humidity over 100%.\n",
    "\n"
   ]
  },
  {
   "cell_type": "code",
   "execution_count": 43,
   "metadata": {},
   "outputs": [],
   "source": [
    "# Make a new DataFrame equal to the city data to drop all humidity outliers by index.\n",
    "# Passing \"inplace=False\" will make a copy of the city_data DataFrame, which we call \"clean_city_data\".\n"
   ]
  },
  {
   "cell_type": "code",
   "execution_count": 44,
   "metadata": {},
   "outputs": [
    {
     "data": {
      "text/plain": [
       "Index(['City_Id', 'City', 'Cloudiness', 'Country', 'Date', 'Humidity', 'Lat',\n",
       "       'lng', 'Max Temp', 'Wind Speed'],\n",
       "      dtype='object')"
      ]
     },
     "execution_count": 44,
     "metadata": {},
     "output_type": "execute_result"
    }
   ],
   "source": [
    "\n",
    "clean_city_data.columns"
   ]
  },
  {
   "cell_type": "markdown",
   "metadata": {},
   "source": [
    "## Plotting the Data\n",
    "* Use proper labeling of the plots using plot titles (including date of analysis) and axes labels.\n",
    "* Save the plotted figures as .pngs."
   ]
  },
  {
   "cell_type": "markdown",
   "metadata": {},
   "source": [
    "## Latitude vs. Temperature Plot"
   ]
  },
  {
   "cell_type": "code",
   "execution_count": 45,
   "metadata": {},
   "outputs": [
    {
     "data": {
      "text/html": [
       "<div>\n",
       "<style scoped>\n",
       "    .dataframe tbody tr th:only-of-type {\n",
       "        vertical-align: middle;\n",
       "    }\n",
       "\n",
       "    .dataframe tbody tr th {\n",
       "        vertical-align: top;\n",
       "    }\n",
       "\n",
       "    .dataframe thead th {\n",
       "        text-align: right;\n",
       "    }\n",
       "</style>\n",
       "<table border=\"1\" class=\"dataframe\">\n",
       "  <thead>\n",
       "    <tr style=\"text-align: right;\">\n",
       "      <th></th>\n",
       "      <th>City_Id</th>\n",
       "      <th>City</th>\n",
       "      <th>Cloudiness</th>\n",
       "      <th>Country</th>\n",
       "      <th>Date</th>\n",
       "      <th>Humidity</th>\n",
       "      <th>Lat</th>\n",
       "      <th>lng</th>\n",
       "      <th>Max Temp</th>\n",
       "      <th>Wind Speed</th>\n",
       "    </tr>\n",
       "  </thead>\n",
       "  <tbody>\n",
       "    <tr>\n",
       "      <th>0</th>\n",
       "      <td>3833367</td>\n",
       "      <td>Ushuaia</td>\n",
       "      <td>75</td>\n",
       "      <td>AR</td>\n",
       "      <td>1611762306</td>\n",
       "      <td>70</td>\n",
       "      <td>-54.8000</td>\n",
       "      <td>-68.3000</td>\n",
       "      <td>44.60</td>\n",
       "      <td>16.11</td>\n",
       "    </tr>\n",
       "    <tr>\n",
       "      <th>1</th>\n",
       "      <td>4976361</td>\n",
       "      <td>Raymond</td>\n",
       "      <td>82</td>\n",
       "      <td>US</td>\n",
       "      <td>1611762526</td>\n",
       "      <td>94</td>\n",
       "      <td>43.9015</td>\n",
       "      <td>-70.4703</td>\n",
       "      <td>32.00</td>\n",
       "      <td>1.99</td>\n",
       "    </tr>\n",
       "    <tr>\n",
       "      <th>2</th>\n",
       "      <td>6539309</td>\n",
       "      <td>Sinnai</td>\n",
       "      <td>75</td>\n",
       "      <td>IT</td>\n",
       "      <td>1611762526</td>\n",
       "      <td>100</td>\n",
       "      <td>39.3042</td>\n",
       "      <td>9.2036</td>\n",
       "      <td>54.00</td>\n",
       "      <td>5.75</td>\n",
       "    </tr>\n",
       "    <tr>\n",
       "      <th>3</th>\n",
       "      <td>546105</td>\n",
       "      <td>Nikolskoye</td>\n",
       "      <td>40</td>\n",
       "      <td>RU</td>\n",
       "      <td>1611762526</td>\n",
       "      <td>86</td>\n",
       "      <td>59.7035</td>\n",
       "      <td>30.7861</td>\n",
       "      <td>33.80</td>\n",
       "      <td>4.47</td>\n",
       "    </tr>\n",
       "    <tr>\n",
       "      <th>4</th>\n",
       "      <td>3628473</td>\n",
       "      <td>San Cristobal</td>\n",
       "      <td>54</td>\n",
       "      <td>VE</td>\n",
       "      <td>1611762527</td>\n",
       "      <td>49</td>\n",
       "      <td>7.7669</td>\n",
       "      <td>-72.2250</td>\n",
       "      <td>78.15</td>\n",
       "      <td>7.90</td>\n",
       "    </tr>\n",
       "  </tbody>\n",
       "</table>\n",
       "</div>"
      ],
      "text/plain": [
       "   City_Id           City  Cloudiness Country        Date  Humidity      Lat  \\\n",
       "0  3833367        Ushuaia          75      AR  1611762306        70 -54.8000   \n",
       "1  4976361        Raymond          82      US  1611762526        94  43.9015   \n",
       "2  6539309         Sinnai          75      IT  1611762526       100  39.3042   \n",
       "3   546105     Nikolskoye          40      RU  1611762526        86  59.7035   \n",
       "4  3628473  San Cristobal          54      VE  1611762527        49   7.7669   \n",
       "\n",
       "       lng  Max Temp  Wind Speed  \n",
       "0 -68.3000     44.60       16.11  \n",
       "1 -70.4703     32.00        1.99  \n",
       "2   9.2036     54.00        5.75  \n",
       "3  30.7861     33.80        4.47  \n",
       "4 -72.2250     78.15        7.90  "
      ]
     },
     "execution_count": 45,
     "metadata": {},
     "output_type": "execute_result"
    }
   ],
   "source": [
    "clean_city_data.head()\n"
   ]
  },
  {
   "cell_type": "code",
   "execution_count": 51,
   "metadata": {},
   "outputs": [
    {
     "name": "stdout",
     "output_type": "stream",
     "text": [
      "01/27/21\n"
     ]
    }
   ],
   "source": [
    "plot_date=clean_city_data.loc[0, 'Date']\n",
    "#plot_date=strftime(\"%A, %D %B %Y\")\n",
    "plot_date=strftime(\"%D\")\n",
    "print(plot_date)"
   ]
  },
  {
   "cell_type": "code",
   "execution_count": 59,
   "metadata": {
    "scrolled": true
   },
   "outputs": [
    {
     "data": {
      "image/png": "[encoded data removed]",
      "text/plain": [
       "<Figure size 432x288 with 1 Axes>"
      ]
     },
     "metadata": {
      "needs_background": "light"
     },
     "output_type": "display_data"
    }
   ],
   "source": [
    "\n",
    "\n",
    "plt.scatter(clean_city_data['Lat'], clean_city_data['Max Temp'])\n",
    "plt.ylim(0, 100)\n",
    "plt.xlim(-60, 80)\n",
    "plt.xlabel('Latitude')\n",
    "plt.ylabel('Max Temp (F)')\n",
    "plt.title(f'Latitude vs. Temperature ({plot_date})')\n",
    "plt.show()"
   ]
  },
  {
   "cell_type": "markdown",
   "metadata": {},
   "source": [
    "## Latitude vs. Humidity Plot"
   ]
  },
  {
   "cell_type": "code",
   "execution_count": 63,
   "metadata": {},
   "outputs": [
    {
     "data": {
      "image/png": "[encoded data removed]",
      "text/plain": [
       "<Figure size 432x288 with 1 Axes>"
      ]
     },
     "metadata": {
      "needs_background": "light"
     },
     "output_type": "display_data"
    }
   ],
   "source": [
    "plt.scatter(clean_city_data['Lat'], clean_city_data['Humidity'])\n",
    "plt.ylim(0, 150)\n",
    "plt.xlim(-60, 80)\n",
    "plt.xlabel('Latitude')\n",
    "plt.ylabel('Humidity (%)')\n",
    "plt.title(f'Latitude vs. Humidity ({plot_date})')\n",
    "plt.show()"
   ]
  },
  {
   "cell_type": "markdown",
   "metadata": {},
   "source": [
    "## Latitude vs. Cloudiness Plot"
   ]
  },
  {
   "cell_type": "code",
   "execution_count": 62,
   "metadata": {
    "scrolled": true
   },
   "outputs": [
    {
     "data": {
      "image/png": "[encoded data removed]",
      "text/plain": [
       "<Figure size 432x288 with 1 Axes>"
      ]
     },
     "metadata": {
      "needs_background": "light"
     },
     "output_type": "display_data"
    }
   ],
   "source": [
    "plt.scatter(clean_city_data['Lat'], clean_city_data['Cloudiness'])\n",
    "plt.ylim(0, 150)\n",
    "plt.xlim(-60, 80)\n",
    "plt.xlabel('Latitude')\n",
    "plt.ylabel('Cloudiness (%)')\n",
    "plt.title(f'Latitude vs. Cloudiness ({plot_date})')\n",
    "plt.show()"
   ]
  },
  {
   "cell_type": "markdown",
   "metadata": {},
   "source": [
    "## Latitude vs. Wind Speed Plot"
   ]
  },
  {
   "cell_type": "code",
   "execution_count": 58,
   "metadata": {},
   "outputs": [
    {
     "data": {
      "image/png": "[encoded data removed]",
      "text/plain": [
       "<Figure size 432x288 with 1 Axes>"
      ]
     },
     "metadata": {
      "needs_background": "light"
     },
     "output_type": "display_data"
    }
   ],
   "source": [
    "plt.scatter(clean_city_data['Lat'], clean_city_data['Wind Speed'])\n",
    "plt.ylim(0, 50)\n",
    "plt.xlim(-60, 80)\n",
    "plt.xlabel('Latitude')\n",
    "plt.ylabel('Wind Speed (mph)')\n",
    "plt.title(f'Latitude vs. Wind Speed ({plot_date})')\n",
    "plt.show()"
   ]
  },
  {
   "cell_type": "markdown",
   "metadata": {},
   "source": [
    "## Linear Regression"
   ]
  },
  {
   "cell_type": "code",
   "execution_count": null,
   "metadata": {},
   "outputs": [],
   "source": [
    "# Calculate the correlation coefficient and linear regression model \n",
    "# for mouse weight and average tumor volume for the Capomulin regimen\n",
    "\n",
    "# x_values = weight_avg\n",
    "# y_values = tumor_vol_avg\n",
    "# (slope, intercept, rvalue, pvalue, stderr) = linregress(x_values, y_values)\n",
    "# regress_values = x_values * slope + intercept\n",
    "# line_eq = \"y = \" + str(round(slope,2)) + \"x + \" + str(round(intercept,2))\n",
    "# plt.scatter(x_values,y_values)\n",
    "# plt.plot(x_values,regress_values,\"r-\")\n",
    "# plt.annotate(line_eq,(6,10),fontsize=15,color=\"red\")\n",
    "# plt.xlabel('Average Weight')\n",
    "# plt.ylabel('Average Tumor Volume')\n",
    "# plt.ylim(32, 47)\n",
    "# plt.xlim(14, 26)\n",
    "# #plt.title('Avg Weight/Avg Tumor Volume for Capomulin Regimen')\n",
    "# plt.title(f\"The correlation coefficient between mouse weight and average tumor volume for the Capomulin treatment {round(sts.pearsonr(x_values,y_values)[0],2)}\")\n",
    "# plt.show()\n"
   ]
  },
  {
   "cell_type": "code",
   "execution_count": 68,
   "metadata": {},
   "outputs": [
    {
     "data": {
      "text/plain": [
       "City_Id       9\n",
       "City          9\n",
       "Cloudiness    9\n",
       "Country       9\n",
       "Date          9\n",
       "Humidity      9\n",
       "Lat           9\n",
       "lng           9\n",
       "Max Temp      9\n",
       "Wind Speed    9\n",
       "dtype: int64"
      ]
     },
     "execution_count": 68,
     "metadata": {},
     "output_type": "execute_result"
    }
   ],
   "source": [
    "\n",
    "nh_df=clean_city_data.loc[clean_city_data['Lat'] >= 0]\n",
    "nh_df.count()"
   ]
  },
  {
   "cell_type": "code",
   "execution_count": 71,
   "metadata": {},
   "outputs": [],
   "source": [
    "(slope, intercept, rvalue, pvalue, stderr) = linregress(nh_df['Lat'], nh_df['Max Temp'])\n",
    "regress_values = nh_df['Lat'] * slope + intercept\n",
    "line_eq = \"y = \" + str(round(slope,2)) + \"x + \" + str(round(intercept,2))"
   ]
  },
  {
   "cell_type": "markdown",
   "metadata": {},
   "source": [
    "####  Northern Hemisphere - Max Temp vs. Latitude Linear Regression"
   ]
  },
  {
   "cell_type": "code",
   "execution_count": 72,
   "metadata": {},
   "outputs": [
    {
     "data": {
      "image/png": "[encoded data removed]",
      "text/plain": [
       "<Figure size 432x288 with 1 Axes>"
      ]
     },
     "metadata": {
      "needs_background": "light"
     },
     "output_type": "display_data"
    }
   ],
   "source": [
    "nh_df=clean_city_data.loc[clean_city_data['Lat'] >= 0]  #defines Northern Hemisphere data to new DF\n",
    "#nh_df.count()\n",
    "(slope, intercept, rvalue, pvalue, stderr) = linregress(nh_df['Lat'], nh_df['Max Temp'])\n",
    "regress_values = nh_df['Lat'] * slope + intercept\n",
    "line_eq = \"y = \" + str(round(slope,2)) + \"x + \" + str(round(intercept,2))\n",
    "plt.scatter(nh_df['Lat'], nh_df['Max Temp'])\n",
    "plt.plot(nh_df['Lat'],regress_values,\"r-\")\n",
    "plt.ylim(0, 100)\n",
    "plt.xlim(0, 80)\n",
    "plt.xlabel('Latitude')\n",
    "plt.ylabel('Max Temp (F)')\n",
    "plt.title(f'Northern Hempisphere Max Temp Vs. Latitude Linerar Regression ({plot_date})')\n",
    "plt.show()"
   ]
  },
  {
   "cell_type": "markdown",
   "metadata": {},
   "source": [
    "####  Southern Hemisphere - Max Temp vs. Latitude Linear Regression"
   ]
  },
  {
   "cell_type": "code",
   "execution_count": 84,
   "metadata": {},
   "outputs": [
    {
     "data": {
      "image/png": "[encoded data removed]",
      "text/plain": [
       "<Figure size 432x288 with 1 Axes>"
      ]
     },
     "metadata": {
      "needs_background": "light"
     },
     "output_type": "display_data"
    }
   ],
   "source": [
    "sh_df=clean_city_data.loc[clean_city_data['Lat'] <= 0]  #defines Northern Hemisphere data to new DF\n",
    "#sh_df.count()\n",
    "(slope, intercept, rvalue, pvalue, stderr) = linregress(sh_df['Lat'], sh_df['Max Temp'])\n",
    "regress_values = sh_df['Lat'] * slope + intercept\n",
    "line_eq = \"y = \" + str(round(slope,2)) + \"x + \" + str(round(intercept,2))\n",
    "plt.scatter(sh_df['Lat'], sh_df['Max Temp'])\n",
    "plt.plot(sh_df['Lat'],regress_values,\"r-\")\n",
    "plt.ylim(0, 100)\n",
    "plt.xlim(-80, 0)\n",
    "plt.xlabel('Latitude')\n",
    "plt.ylabel('Max Temp (F)')\n",
    "plt.title(f'Southern Hempisphere Max Temp Vs. Latitude Linerar Regression ({plot_date})')\n",
    "plt.show()"
   ]
  },
  {
   "cell_type": "markdown",
   "metadata": {},
   "source": [
    "####  Northern Hemisphere - Humidity (%) vs. Latitude Linear Regression"
   ]
  },
  {
   "cell_type": "code",
   "execution_count": 93,
   "metadata": {},
   "outputs": [
    {
     "data": {
      "image/png": "[encoded data removed]",
      "text/plain": [
       "<Figure size 432x288 with 1 Axes>"
      ]
     },
     "metadata": {
      "needs_background": "light"
     },
     "output_type": "display_data"
    }
   ],
   "source": [
    "#nh_df=clean_city_data.loc[clean_city_data['Lat'] >= 0]  #defines Northern Hemisphere data to new DF\n",
    "#nh_df.count()\n",
    "(slope, intercept, rvalue, pvalue, stderr) = linregress(nh_df['Lat'], nh_df['Humidity'])\n",
    "regress_values = nh_df['Lat'] * slope + intercept\n",
    "line_eq = \"y = \" + str(round(slope,2)) + \"x + \" + str(round(intercept,2))\n",
    "plt.scatter(nh_df['Lat'], nh_df['Humidity'])\n",
    "plt.plot(nh_df['Lat'],regress_values,\"r-\")\n",
    "plt.ylim(0, 150)\n",
    "plt.xlim(0, 80)\n",
    "plt.xlabel('Latitude')\n",
    "plt.ylabel('Humidity (%)')\n",
    "plt.title(f'Northern Hempisphere Humidity Vs. Latitude Linerar Regression ({plot_date})')\n",
    "plt.show()"
   ]
  },
  {
   "cell_type": "markdown",
   "metadata": {},
   "source": [
    "####  Southern Hemisphere - Humidity (%) vs. Latitude Linear Regression"
   ]
  },
  {
   "cell_type": "code",
   "execution_count": 96,
   "metadata": {},
   "outputs": [
    {
     "data": {
      "image/png": "[encoded data removed]",
      "text/plain": [
       "<Figure size 432x288 with 1 Axes>"
      ]
     },
     "metadata": {
      "needs_background": "light"
     },
     "output_type": "display_data"
    }
   ],
   "source": [
    "#sh_df=clean_city_data.loc[clean_city_data['Lat'] <= 0]  #defines Northern Hemisphere data to new DF\n",
    "#sh_df.count()\n",
    "(slope, intercept, rvalue, pvalue, stderr) = linregress(sh_df['Lat'], sh_df['Humidity'])\n",
    "regress_values = sh_df['Lat'] * slope + intercept\n",
    "line_eq = \"y = \" + str(round(slope,2)) + \"x + \" + str(round(intercept,2))\n",
    "plt.scatter(sh_df['Lat'], sh_df['Humidity'])\n",
    "plt.plot(sh_df['Lat'],regress_values,\"r-\")\n",
    "plt.ylim(-2, 155)\n",
    "plt.xlim(-80, 5)\n",
    "plt.xlabel('Latitude')\n",
    "plt.ylabel('Humidity (%)')\n",
    "plt.title(f'Southern Hempisphere Humidity Vs. Latitude Linerar Regression ({plot_date})')\n",
    "plt.show()"
   ]
  },
  {
   "cell_type": "markdown",
   "metadata": {},
   "source": [
    "####  Northern Hemisphere - Cloudiness (%) vs. Latitude Linear Regression"
   ]
  },
  {
   "cell_type": "code",
   "execution_count": 102,
   "metadata": {},
   "outputs": [
    {
     "data": {
      "image/png": "[encoded data removed]",
      "text/plain": [
       "<Figure size 432x288 with 1 Axes>"
      ]
     },
     "metadata": {
      "needs_background": "light"
     },
     "output_type": "display_data"
    }
   ],
   "source": [
    "(slope, intercept, rvalue, pvalue, stderr) = linregress(nh_df['Lat'], nh_df['Cloudiness'])\n",
    "regress_values = nh_df['Lat'] * slope + intercept\n",
    "line_eq = \"y = \" + str(round(slope,2)) + \"x + \" + str(round(intercept,2))\n",
    "plt.scatter(nh_df['Lat'], nh_df['Cloudiness'])\n",
    "plt.plot(nh_df['Lat'],regress_values,\"r-\")\n",
    "plt.ylim(0, 155)\n",
    "plt.xlim(0,80)\n",
    "plt.xlabel('Latitude')\n",
    "plt.ylabel('Cloudiness (%)')\n",
    "plt.title(f'Northern Hempisphere Cloudiness Vs. Latitude Linerar Regression ({plot_date})')\n",
    "plt.show()"
   ]
  },
  {
   "cell_type": "markdown",
   "metadata": {},
   "source": [
    "####  Southern Hemisphere - Cloudiness (%) vs. Latitude Linear Regression"
   ]
  },
  {
   "cell_type": "code",
   "execution_count": 98,
   "metadata": {},
   "outputs": [
    {
     "data": {
      "image/png": "[encoded data removed]",
      "text/plain": [
       "<Figure size 432x288 with 1 Axes>"
      ]
     },
     "metadata": {
      "needs_background": "light"
     },
     "output_type": "display_data"
    }
   ],
   "source": [
    "(slope, intercept, rvalue, pvalue, stderr) = linregress(sh_df['Lat'], sh_df['Cloudiness'])\n",
    "regress_values = sh_df['Lat'] * slope + intercept\n",
    "line_eq = \"y = \" + str(round(slope,2)) + \"x + \" + str(round(intercept,2))\n",
    "plt.scatter(sh_df['Lat'], sh_df['Cloudiness'])\n",
    "plt.plot(sh_df['Lat'],regress_values,\"r-\")\n",
    "plt.ylim(-5, 155)\n",
    "plt.xlim(-80,5)\n",
    "plt.xlabel('Latitude')\n",
    "plt.ylabel('Cloudiness (%)')\n",
    "plt.title(f'Southern Hempisphere Cloudiness Vs. Latitude Linerar Regression ({plot_date})')\n",
    "plt.show()"
   ]
  },
  {
   "cell_type": "markdown",
   "metadata": {},
   "source": [
    "####  Northern Hemisphere - Wind Speed (mph) vs. Latitude Linear Regression"
   ]
  },
  {
   "cell_type": "code",
   "execution_count": 103,
   "metadata": {},
   "outputs": [
    {
     "data": {
      "image/png": "[encoded data removed]",
      "text/plain": [
       "<Figure size 432x288 with 1 Axes>"
      ]
     },
     "metadata": {
      "needs_background": "light"
     },
     "output_type": "display_data"
    }
   ],
   "source": [
    "(slope, intercept, rvalue, pvalue, stderr) = linregress(nh_df['Lat'], nh_df['Wind Speed'])\n",
    "regress_values =nh_df['Lat'] * slope + intercept\n",
    "line_eq = \"y = \" + str(round(slope,2)) + \"x + \" + str(round(intercept,2))\n",
    "plt.scatter(nh_df['Lat'],nh_df['Wind Speed'])\n",
    "plt.plot(nh_df['Lat'],regress_values,\"r-\")\n",
    "plt.ylim(0, 50)\n",
    "plt.xlim(-5, 80)\n",
    "plt.xlabel('Latitude')\n",
    "plt.ylabel('Wind Speed (%)')\n",
    "plt.title(f'Northern Hempisphere Wind Speed Vs. Latitude Linerar Regression ({plot_date})')\n",
    "plt.show()"
   ]
  },
  {
   "cell_type": "markdown",
   "metadata": {},
   "source": [
    "####  Southern Hemisphere - Wind Speed (mph) vs. Latitude Linear Regression"
   ]
  },
  {
   "cell_type": "code",
   "execution_count": 99,
   "metadata": {},
   "outputs": [
    {
     "data": {
      "image/png": "[encoded data removed]",
      "text/plain": [
       "<Figure size 432x288 with 1 Axes>"
      ]
     },
     "metadata": {
      "needs_background": "light"
     },
     "output_type": "display_data"
    }
   ],
   "source": [
    "(slope, intercept, rvalue, pvalue, stderr) = linregress(sh_df['Lat'], sh_df['Wind Speed'])\n",
    "regress_values = sh_df['Lat'] * slope + intercept\n",
    "line_eq = \"y = \" + str(round(slope,2)) + \"x + \" + str(round(intercept,2))\n",
    "plt.scatter(sh_df['Lat'], sh_df['Wind Speed'])\n",
    "plt.plot(sh_df['Lat'],regress_values,\"r-\")\n",
    "plt.ylim(0, 50)\n",
    "plt.xlim(-80, 5)\n",
    "plt.xlabel('Latitude')\n",
    "plt.ylabel('Wind Speed (%)')\n",
    "plt.title(f'Southern Hempisphere Wind Speed Vs. Latitude Linerar Regression ({plot_date})')\n",
    "plt.show()"
   ]
  },
  {
   "cell_type": "code",
   "execution_count": null,
   "metadata": {},
   "outputs": [],
   "source": []
  }
 ],
 "metadata": {
  "anaconda-cloud": {},
  "kernel_info": {
   "name": "python3"
  },
  "kernelspec": {
   "display_name": "Python 3",
   "language": "python",
   "name": "python3"
  },
  "language_info": {
   "codemirror_mode": {
    "name": "ipython",
    "version": 3
   },
   "file_extension": ".py",
   "mimetype": "text/x-python",
   "name": "python",
   "nbconvert_exporter": "python",
   "pygments_lexer": "ipython3",
   "version": "3.8.3"
  },
  "latex_envs": {
   "LaTeX_envs_menu_present": true,
   "autoclose": false,
   "autocomplete": true,
   "bibliofile": "biblio.bib",
   "cite_by": "apalike",
   "current_citInitial": 1,
   "eqLabelWithNumbers": true,
   "eqNumInitial": 1,
   "hotkeys": {
    "equation": "Ctrl-E",
    "itemize": "Ctrl-I"
   },
   "labels_anchors": false,
   "latex_user_defs": false,
   "report_style_numbering": false,
   "user_envs_cfg": false
  },
  "nteract": {
   "version": "0.12.3"
  }
 },
 "nbformat": 4,
 "nbformat_minor": 2
}
