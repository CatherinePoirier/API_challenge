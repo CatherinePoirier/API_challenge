{
 "cells": [
  {
   "cell_type": "markdown",
   "metadata": {},
   "source": [
    "# WeatherPy\n",
    "----\n",
    "\n",
    "#### Note\n",
    "* Instructions have been included for each segment. You do not have to follow them exactly, but they are included to help you think through the steps."
   ]
  },
  {
   "cell_type": "markdown",
   "metadata": {},
   "source": [
    "**User will Need to have their own api keys  from api_keys import weather_api_key"
   ]
  },
  {
   "cell_type": "code",
   "execution_count": 1,
   "metadata": {
    "scrolled": true
   },
   "outputs": [],
   "source": [
    "# Dependencies and Setup\n",
    "import matplotlib.pyplot as plt\n",
    "import pandas as pd\n",
    "import numpy as np\n",
    "import requests\n",
    "import time\n",
    "from time import gmtime, strftime \n",
    "from scipy.stats import linregress\n",
    "from pprint import pprint\n",
    "import json\n",
    "\n",
    "# Import API key\n",
    "from api_keys import weather_api_key\n",
    "\n",
    "# Incorporated citipy to determine city based on latitude and longitude\n",
    "from citipy import citipy\n",
    "\n",
    "#added for export do not know if needed\n",
    "#import os\n",
    "#import csv\n",
    "#output_path=os.path(\"output_data\", \"cities.csv\")\n",
    "\n",
    "#Output File (CSV) from start file below\n",
    "#output_data_file = (\"output_data/cities.csv\", header=True, Index=True\n",
    "\n",
    "# Range of latitudes and longitudes\n",
    "lat_range = (-90, 90)\n",
    "lng_range = (-180, 180)"
   ]
  },
  {
   "cell_type": "code",
   "execution_count": null,
   "metadata": {},
   "outputs": [],
   "source": []
  },
  {
   "cell_type": "markdown",
   "metadata": {},
   "source": [
    "## Generate Cities List"
   ]
  },
  {
   "cell_type": "code",
   "execution_count": 2,
   "metadata": {},
   "outputs": [],
   "source": [
    "# List for holding lat_lngs and cities\n",
    "lat_lngs = []\n",
    "cities = []\n",
    "\n",
    "# Create a set of random lat and lng combinations\n",
    "lats = np.random.uniform(lat_range[0], lat_range[1], size=1500)\n",
    "lngs = np.random.uniform(lng_range[0], lng_range[1], size=1500)\n",
    "lat_lngs = zip(lats, lngs)\n",
    "\n",
    "# Identify nearest city for each lat, lng combination\n",
    "for lat_lng in lat_lngs:\n",
    "    city = citipy.nearest_city(lat_lng[0], lat_lng[1]).city_name\n",
    "    \n",
    "    # If the city is unique, then add it to a our cities list\n",
    "    if city not in cities:\n",
    "        cities.append(city)\n",
    "\n",
    "# Print the city count to confirm sufficient count\n",
    "#len(cities)\n",
    "#cities\n"
   ]
  },
  {
   "cell_type": "raw",
   "metadata": {},
   "source": [
    "### Perform API Calls\n",
    "* Perform a weather check on each city using a series of successive API calls.\n",
    "* Include a print log of each city as it'sbeing processed (with the city number and city name).\n"
   ]
  },
  {
   "cell_type": "code",
   "execution_count": null,
   "metadata": {},
   "outputs": [
    {
     "name": "stdout",
     "output_type": "stream",
     "text": [
      "The city_id for Punta Arenas is 3874787\n",
      "The city_id for Qaqortoq is 3420846\n",
      "The city_id for Busselton is 2075265\n",
      "The city_id for Kapaa is 5848280\n",
      "The city_id for Acaraú is 3408368\n",
      "The city_id for Nanortalik is 3421765\n",
      "The city_id for Albany is 5106841\n",
      "CITY NOT FOUND.\n",
      "The city_id for Bend is 5713587\n",
      "CITY NOT FOUND.\n",
      "CITY NOT FOUND.\n",
      "The city_id for Lagoa is 3372964\n",
      "The city_id for Port Elizabeth is 964420\n",
      "The city_id for Rikitea is 4030556\n",
      "The city_id for Yellowknife is 6185377\n",
      "The city_id for Hobart is 2163355\n",
      "The city_id for San Vicente is 3428068\n",
      "The city_id for High Level is 5975004\n",
      "The city_id for Tautira is 4033557\n",
      "The city_id for Qaanaaq is 3831208\n",
      "The city_id for Lebu is 3883457\n",
      "The city_id for Mataura is 6201424\n",
      "The city_id for Saint George is 5546220\n",
      "The city_id for Jamestown is 5122534\n",
      "The city_id for Sawākin is 367544\n",
      "The city_id for Vila do Maio is 3374120\n",
      "The city_id for Hilo is 5855927\n",
      "The city_id for Manyana is 933416\n",
      "The city_id for Ponta do Sol is 2264557\n",
      "The city_id for Kamenka is 553766\n",
      "The city_id for Saskylakh is 2017155\n",
      "The city_id for Ushuaia is 3833367\n",
      "The city_id for São João da Barra is 3448903\n",
      "The city_id for Bambous Virieux is 1106677\n",
      "The city_id for Varnavino is 476982\n",
      "CITY NOT FOUND.\n",
      "The city_id for Olafsvik is 3414079\n",
      "The city_id for Bilibino is 2126682\n",
      "The city_id for Nuevo Progreso is 3522526\n",
      "The city_id for Butaritari is 2110227\n",
      "The city_id for Kahului is 5847411\n",
      "The city_id for Cape Town is 3369157\n",
      "CITY NOT FOUND.\n",
      "The city_id for Harper is 2276492\n",
      "CITY NOT FOUND.\n",
      "CITY NOT FOUND.\n",
      "The city_id for Thinadhoo is 1337610\n",
      "The city_id for Bluff is 2206939\n",
      "The city_id for Klaksvík is 2618795\n",
      "The city_id for Tiksi is 2015306\n",
      "The city_id for Kaitangata is 2208248\n",
      "CITY NOT FOUND.\n",
      "The city_id for Labuhan is 8079926\n",
      "The city_id for Jumla is 1283285\n",
      "The city_id for Castro is 3466704\n",
      "CITY NOT FOUND.\n",
      "The city_id for Jinchang is 1805733\n",
      "The city_id for Sanming is 1796663\n",
      "The city_id for Bredasdorp is 1015776\n",
      "The city_id for Carnarvon is 2074865\n"
     ]
    }
   ],
   "source": [
    "url=\"https://api.openweathermap.org/data/2.5/weather?\"\n",
    "#units=\"imperial\"\n",
    "\n",
    "lat=[]\n",
    "lng=[]\n",
    "humidity=[]\n",
    "max_temp=[]\n",
    "city_id=[]\n",
    "cloudiness=[]\n",
    "country=[]\n",
    "dt=[]\n",
    "wind_speed=[]\n",
    "city_name=[]\n",
    "\n",
    "index_count=0\n",
    "for each_city in cities:\n",
    "    each_city=each_city\n",
    "    query_url = url + \"&q=\" + each_city + \"&appid=\" + weather_api_key + \"&units=imperial\"\n",
    "    response = requests.get(query_url).json()\n",
    "\n",
    "    try:\n",
    " \n",
    "       #print([each_city])\n",
    "       #print(f' )\n",
    "       lat.append(response['coord']['lat'])\n",
    "       #print(f'The latitude is {lat} for {each_city}  ')\n",
    "       lng.append(response['coord']['lon'])\n",
    "       #print(f'The Longitude is {lng} for {each_city} ')\n",
    "       humidity.append(response['main']['humidity'])\n",
    "       #print(f'The humidity is {humidity} for {each_city} ')\n",
    "       max_temp.append(response['main']['temp_max'])\n",
    "       #print(f'The max_temp is {max_temp} for {each_city} ')\n",
    "       city_id.append(response['id'])\n",
    "       #print(f'The city_id. is {city_id} for {each_city} ')\n",
    "       city_name.append(response['name'])\n",
    "       #print(f'The city_name is {city_name} for {each_city} ')\n",
    "       cloudiness.append(response['clouds']['all'])\n",
    "       #print(f'The cloudiness is {cloudiness} for {each_city} ') \n",
    "       country.append(response['sys']['country'])\n",
    "       #print(f'The country is {country} for {each_city} ') \n",
    "       dt.append(response['dt'])\n",
    "       #print(f'The date is {dt} for {each_city} ')  \n",
    "       wind_speed.append(response['wind']['speed'])\n",
    "       #print(f'The wind_speed is {wind_speed} for {each_city} ') \n",
    "       print(f'The city_id for {city_name[index_count]} is {city_id[index_count]}')\n",
    "       index_count=index_count+1\n",
    "    except KeyError:\n",
    "             print(\"CITY NOT FOUND.\")\n",
    "            \n",
    "\n"
   ]
  },
  {
   "cell_type": "markdown",
   "metadata": {},
   "source": [
    "### Convert Raw Data to DataFrame\n",
    "* Export the city data into a .csv.\n",
    "* Display the DataFrame"
   ]
  },
  {
   "cell_type": "code",
   "execution_count": null,
   "metadata": {},
   "outputs": [],
   "source": [
    "#Creates a DataFrame\n",
    "weather_dict = {\n",
    "    \"City_Id\": city_id,\n",
    "    \"City\": city_name,\n",
    "    \"Cloudiness\": cloudiness,\n",
    "    \"Country\": country,\n",
    "    \"Date\": dt,\n",
    "    \"Humidity\": humidity,\n",
    "    \"Lat\": lat,\n",
    "    \"lng\": lng,\n",
    "    \"Max Temp\": max_temp,\n",
    "    \"Wind Speed\": wind_speed\n",
    "}\n",
    "weather_data_df=pd.DataFrame(weather_dict)\n",
    "#weather_data_df.head()\n",
    "#weather_data_df.count()\n",
    "\n",
    "\n",
    "#output_data_file = \"output_data/city_output.csv\"\n"
   ]
  },
  {
   "cell_type": "code",
   "execution_count": null,
   "metadata": {},
   "outputs": [],
   "source": [
    "#pprint(response)"
   ]
  },
  {
   "cell_type": "code",
   "execution_count": null,
   "metadata": {},
   "outputs": [],
   "source": [
    "\n",
    "weather_data_df.to_csv(\"output_data/cities.csv\", header=True, index=False)"
   ]
  },
  {
   "cell_type": "markdown",
   "metadata": {},
   "source": [
    "## Inspect the data and remove the cities where the humidity > 100%.\n",
    "----\n",
    "Skip this step if there are no cities that have humidity > 100%. "
   ]
  },
  {
   "cell_type": "code",
   "execution_count": null,
   "metadata": {},
   "outputs": [],
   "source": [
    "clean_city_data=weather_data_df.loc[weather_data_df['Humidity'] <= 100]\n",
    "#clean_city_data.count()"
   ]
  },
  {
   "cell_type": "code",
   "execution_count": null,
   "metadata": {},
   "outputs": [],
   "source": [
    "clean_city_data=clean_city_data.dropna(how='any')\n",
    "#clean_city_data.count()"
   ]
  },
  {
   "cell_type": "code",
   "execution_count": null,
   "metadata": {},
   "outputs": [],
   "source": [
    "#  Get the indices of cities that have humidity over 100%.\n",
    "\n"
   ]
  },
  {
   "cell_type": "code",
   "execution_count": null,
   "metadata": {},
   "outputs": [],
   "source": [
    "# Make a new DataFrame equal to the city data to drop all humidity outliers by index.\n",
    "# Passing \"inplace=False\" will make a copy of the city_data DataFrame, which we call \"clean_city_data\".\n",
    "#clean_city_data.head()"
   ]
  },
  {
   "cell_type": "markdown",
   "metadata": {},
   "source": [
    "## Plotting the Data\n",
    "* Use proper labeling of the plots using plot titles (including date of analysis) and axes labels.\n",
    "* Save the plotted figures as .pngs."
   ]
  },
  {
   "cell_type": "markdown",
   "metadata": {},
   "source": [
    "## Latitude vs. Temperature Plot"
   ]
  },
  {
   "cell_type": "code",
   "execution_count": null,
   "metadata": {},
   "outputs": [],
   "source": [
    "#FORMATS THE DATE FOR PLOTS\n",
    "plot_date=clean_city_data.loc[0, 'Date']\n",
    "#plot_date=strftime(\"%A, %D %B %Y\")\n",
    "plot_date=strftime(\"%D\")\n",
    "print(plot_date)"
   ]
  },
  {
   "cell_type": "markdown",
   "metadata": {},
   "source": [
    "After each plot, add a sentence or two explaining what the code is analyzing.\n",
    "Save a CSV of all retrieved data and a PNG image for each scatter plot."
   ]
  },
  {
   "cell_type": "code",
   "execution_count": null,
   "metadata": {
    "scrolled": true
   },
   "outputs": [],
   "source": [
    "plt.scatter(clean_city_data['Lat'], clean_city_data['Max Temp'])\n",
    "plt.ylim(0, 100)\n",
    "plt.xlim(-60, 80)\n",
    "plt.xlabel('Latitude')\n",
    "plt.ylabel('Max Temp (F)')\n",
    "plt.title(f'Latitude vs. Temperature ({plot_date})')\n",
    "plt.show()"
   ]
  },
  {
   "cell_type": "markdown",
   "metadata": {},
   "source": [
    "* **This plot shows the Maximum temperature on a the same day for all cities in the data set based on their latitude."
   ]
  },
  {
   "cell_type": "markdown",
   "metadata": {},
   "source": [
    "## Latitude vs. Humidity Plot"
   ]
  },
  {
   "cell_type": "code",
   "execution_count": null,
   "metadata": {},
   "outputs": [],
   "source": [
    "plt.scatter(clean_city_data['Lat'], clean_city_data['Humidity'])\n",
    "plt.ylim(0, 150)\n",
    "plt.xlim(-60, 80)\n",
    "plt.xlabel('Latitude')\n",
    "plt.ylabel('Humidity (%)')\n",
    "plt.title(f'Latitude vs. Humidity ({plot_date})')\n",
    "plt.show()"
   ]
  },
  {
   "cell_type": "markdown",
   "metadata": {},
   "source": [
    "* **This plot shows the Humidity on a the same day for all cities in the data set based on their latitude."
   ]
  },
  {
   "cell_type": "markdown",
   "metadata": {},
   "source": [
    "## Latitude vs. Cloudiness Plot"
   ]
  },
  {
   "cell_type": "code",
   "execution_count": null,
   "metadata": {
    "scrolled": true
   },
   "outputs": [],
   "source": [
    "plt.scatter(clean_city_data['Lat'], clean_city_data['Cloudiness'])\n",
    "plt.ylim(0, 150)\n",
    "plt.xlim(-60, 80)\n",
    "plt.xlabel('Latitude')\n",
    "plt.ylabel('Cloudiness (%)')\n",
    "plt.title(f'Latitude vs. Cloudiness ({plot_date})')\n",
    "plt.show()"
   ]
  },
  {
   "cell_type": "markdown",
   "metadata": {},
   "source": [
    "* **This plot shows the Cloudiness on a the same day for all cities in the data set based on their latitude."
   ]
  },
  {
   "cell_type": "markdown",
   "metadata": {},
   "source": [
    "## Latitude vs. Wind Speed Plot"
   ]
  },
  {
   "cell_type": "code",
   "execution_count": null,
   "metadata": {},
   "outputs": [],
   "source": [
    "plt.scatter(clean_city_data['Lat'], clean_city_data['Wind Speed'])\n",
    "plt.ylim(0, 50)\n",
    "plt.xlim(-60, 80)\n",
    "plt.xlabel('Latitude')\n",
    "plt.ylabel('Wind Speed (mph)')\n",
    "plt.title(f'Latitude vs. Wind Speed ({plot_date})')\n",
    "plt.show()"
   ]
  },
  {
   "cell_type": "markdown",
   "metadata": {},
   "source": [
    "* **This plot shows the Wind Speed on a the same day for all cities in the data set based on their latitude."
   ]
  },
  {
   "cell_type": "markdown",
   "metadata": {},
   "source": [
    "## Linear Regression"
   ]
  },
  {
   "cell_type": "code",
   "execution_count": null,
   "metadata": {},
   "outputs": [],
   "source": [
    "# Calculate the correlation coefficient and linear regression model \n",
    "# for mouse weight and average tumor volume for the Capomulin regimen\n",
    "\n",
    "# x_values = weight_avg\n",
    "# y_values = tumor_vol_avg\n",
    "# (slope, intercept, rvalue, pvalue, stderr) = linregress(x_values, y_values)\n",
    "# regress_values = x_values * slope + intercept\n",
    "# line_eq = \"y = \" + str(round(slope,2)) + \"x + \" + str(round(intercept,2))\n",
    "# plt.scatter(x_values,y_values)\n",
    "# plt.plot(x_values,regress_values,\"r-\")\n",
    "# plt.annotate(line_eq,(6,10),fontsize=15,color=\"red\")\n",
    "# plt.xlabel('Average Weight')\n",
    "# plt.ylabel('Average Tumor Volume')\n",
    "# plt.ylim(32, 47)\n",
    "# plt.xlim(14, 26)\n",
    "# #plt.title('Avg Weight/Avg Tumor Volume for Capomulin Regimen')\n",
    "# plt.title(f\"The correlation coefficient between mouse weight and average tumor volume for the Capomulin treatment {round(sts.pearsonr(x_values,y_values)[0],2)}\")\n",
    "# plt.show()\n"
   ]
  },
  {
   "cell_type": "code",
   "execution_count": null,
   "metadata": {},
   "outputs": [],
   "source": [
    "\n",
    "nh_df=clean_city_data.loc[clean_city_data['Lat'] >= 0]\n",
    "nh_df.count()"
   ]
  },
  {
   "cell_type": "code",
   "execution_count": null,
   "metadata": {},
   "outputs": [],
   "source": [
    "(slope, intercept, rvalue, pvalue, stderr) = linregress(nh_df['Lat'], nh_df['Max Temp'])\n",
    "regress_values = nh_df['Lat'] * slope + intercept\n",
    "line_eq = \"y = \" + str(round(slope,2)) + \"x + \" + str(round(intercept,2))"
   ]
  },
  {
   "cell_type": "markdown",
   "metadata": {},
   "source": [
    "####  Northern Hemisphere - Max Temp vs. Latitude Linear Regression"
   ]
  },
  {
   "cell_type": "code",
   "execution_count": null,
   "metadata": {},
   "outputs": [],
   "source": [
    "nh_df=clean_city_data.loc[clean_city_data['Lat'] >= 0]  #defines Northern Hemisphere data to new DF\n",
    "#nh_df.count()\n",
    "(slope, intercept, rvalue, pvalue, stderr) = linregress(nh_df['Lat'], nh_df['Max Temp'])\n",
    "regress_values = nh_df['Lat'] * slope + intercept\n",
    "line_eq = \"y = \" + str(round(slope,2)) + \"x + \" + str(round(intercept,2))\n",
    "plt.scatter(nh_df['Lat'], nh_df['Max Temp'])\n",
    "plt.plot(nh_df['Lat'],regress_values,\"r-\")\n",
    "plt.ylim(0, 100)\n",
    "plt.xlim(0, 80)\n",
    "plt.xlabel('Latitude')\n",
    "plt.ylabel('Max Temp (F)')\n",
    "plt.title(f'Northern Hempisphere Max Temp Vs. Latitude Linerar Regression ({plot_date})')\n",
    "plt.show()"
   ]
  },
  {
   "cell_type": "markdown",
   "metadata": {},
   "source": [
    " * **This plot shows the Maximum temperature for the Northern Hemisphere on a the same day for all cities in the data set based on their latitude. Included is line representing the Linerar Regression showing that the Max Temp is decreasing as the lattitude Increases (gets further away from the equator)."
   ]
  },
  {
   "cell_type": "markdown",
   "metadata": {},
   "source": [
    "####  Southern Hemisphere - Max Temp vs. Latitude Linear Regression"
   ]
  },
  {
   "cell_type": "code",
   "execution_count": null,
   "metadata": {},
   "outputs": [],
   "source": [
    "sh_df=clean_city_data.loc[clean_city_data['Lat'] <= 0]  #defines Northern Hemisphere data to new DF\n",
    "#sh_df.count()\n",
    "(slope, intercept, rvalue, pvalue, stderr) = linregress(sh_df['Lat'], sh_df['Max Temp'])\n",
    "regress_values = sh_df['Lat'] * slope + intercept\n",
    "line_eq = \"y = \" + str(round(slope,2)) + \"x + \" + str(round(intercept,2))\n",
    "plt.scatter(sh_df['Lat'], sh_df['Max Temp'])\n",
    "plt.plot(sh_df['Lat'],regress_values,\"r-\")\n",
    "plt.ylim(0, 100)\n",
    "plt.xlim(-80, 0)\n",
    "plt.xlabel('Latitude')\n",
    "plt.ylabel('Max Temp (F)')\n",
    "plt.title(f'Southern Hempisphere Max Temp Vs. Latitude Linerar Regression ({plot_date})')\n",
    "plt.show()"
   ]
  },
  {
   "cell_type": "markdown",
   "metadata": {},
   "source": [
    " * **This plot shows the Maximum temperature for the Southern Hemisphere on a the same day for all cities in the data set based on their latitude. Included is line representing the Linerar Regression showing that the Max Temp is increases as the lattitude Increases (gets closer to the equator)."
   ]
  },
  {
   "cell_type": "markdown",
   "metadata": {},
   "source": [
    "####  Northern Hemisphere - Humidity (%) vs. Latitude Linear Regression"
   ]
  },
  {
   "cell_type": "code",
   "execution_count": null,
   "metadata": {},
   "outputs": [],
   "source": [
    "#nh_df=clean_city_data.loc[clean_city_data['Lat'] >= 0]  #defines Northern Hemisphere data to new DF\n",
    "#nh_df.count()\n",
    "(slope, intercept, rvalue, pvalue, stderr) = linregress(nh_df['Lat'], nh_df['Humidity'])\n",
    "regress_values = nh_df['Lat'] * slope + intercept\n",
    "line_eq = \"y = \" + str(round(slope,2)) + \"x + \" + str(round(intercept,2))\n",
    "plt.scatter(nh_df['Lat'], nh_df['Humidity'])\n",
    "plt.plot(nh_df['Lat'],regress_values,\"r-\")\n",
    "plt.ylim(0, 150)\n",
    "plt.xlim(0, 80)\n",
    "plt.xlabel('Latitude')\n",
    "plt.ylabel('Humidity (%)')\n",
    "plt.title(f'Northern Hempisphere Humidity Vs. Latitude Linerar Regression ({plot_date})')\n",
    "plt.show()"
   ]
  },
  {
   "cell_type": "markdown",
   "metadata": {},
   "source": [
    "* **This plot shows the Humidity for the Northern Hemisphere on a the same day for all cities in the data set based on their latitude. Included is line representing the Linerar Regression showing that the Humidity is slighly increasing as the lattitude Increases (gets further away from the equator)."
   ]
  },
  {
   "cell_type": "markdown",
   "metadata": {},
   "source": [
    "####  Southern Hemisphere - Humidity (%) vs. Latitude Linear Regression"
   ]
  },
  {
   "cell_type": "code",
   "execution_count": null,
   "metadata": {},
   "outputs": [],
   "source": [
    "#sh_df=clean_city_data.loc[clean_city_data['Lat'] <= 0]  #defines Northern Hemisphere data to new DF\n",
    "#sh_df.count()\n",
    "(slope, intercept, rvalue, pvalue, stderr) = linregress(sh_df['Lat'], sh_df['Humidity'])\n",
    "regress_values = sh_df['Lat'] * slope + intercept\n",
    "line_eq = \"y = \" + str(round(slope,2)) + \"x + \" + str(round(intercept,2))\n",
    "plt.scatter(sh_df['Lat'], sh_df['Humidity'])\n",
    "plt.plot(sh_df['Lat'],regress_values,\"r-\")\n",
    "plt.ylim(-2, 155)\n",
    "plt.xlim(-80, 5)\n",
    "plt.xlabel('Latitude')\n",
    "plt.ylabel('Humidity (%)')\n",
    "plt.title(f'Southern Hempisphere Humidity Vs. Latitude Linerar Regression ({plot_date})')\n",
    "plt.show()"
   ]
  },
  {
   "cell_type": "markdown",
   "metadata": {},
   "source": [
    " * **This plot shows the Humidity for the Southern Hemisphere on a the same day for all cities in the data set based on their latitude. Included is line representing the Linerar Regression showing that the Humidity slightly increases as the lattitude Increases (gets closer to the equator)."
   ]
  },
  {
   "cell_type": "markdown",
   "metadata": {},
   "source": [
    "####  Northern Hemisphere - Cloudiness (%) vs. Latitude Linear Regression"
   ]
  },
  {
   "cell_type": "code",
   "execution_count": null,
   "metadata": {},
   "outputs": [],
   "source": [
    "(slope, intercept, rvalue, pvalue, stderr) = linregress(nh_df['Lat'], nh_df['Cloudiness'])\n",
    "regress_values = nh_df['Lat'] * slope + intercept\n",
    "line_eq = \"y = \" + str(round(slope,2)) + \"x + \" + str(round(intercept,2))\n",
    "plt.scatter(nh_df['Lat'], nh_df['Cloudiness'])\n",
    "plt.plot(nh_df['Lat'],regress_values,\"r-\")\n",
    "plt.ylim(0, 155)\n",
    "plt.xlim(0,80)\n",
    "plt.xlabel('Latitude')\n",
    "plt.ylabel('Cloudiness (%)')\n",
    "plt.title(f'Northern Hempisphere Cloudiness Vs. Latitude Linerar Regression ({plot_date})')\n",
    "plt.show()"
   ]
  },
  {
   "cell_type": "markdown",
   "metadata": {},
   "source": [
    "* **This plot shows the Cloudiness for the Northern Hemisphere on a the same day for all cities in the data set based on their latitude. Included is line representing the Linerar Regression showing that the Cloudiness slighly increases as the lattitude Increases (gets further away from the equator)."
   ]
  },
  {
   "cell_type": "markdown",
   "metadata": {},
   "source": [
    "####  Southern Hemisphere - Cloudiness (%) vs. Latitude Linear Regression"
   ]
  },
  {
   "cell_type": "code",
   "execution_count": null,
   "metadata": {},
   "outputs": [],
   "source": [
    "(slope, intercept, rvalue, pvalue, stderr) = linregress(sh_df['Lat'], sh_df['Cloudiness'])\n",
    "regress_values = sh_df['Lat'] * slope + intercept\n",
    "line_eq = \"y = \" + str(round(slope,2)) + \"x + \" + str(round(intercept,2))\n",
    "plt.scatter(sh_df['Lat'], sh_df['Cloudiness'])\n",
    "plt.plot(sh_df['Lat'],regress_values,\"r-\")\n",
    "plt.ylim(-5, 155)\n",
    "plt.xlim(-80,5)\n",
    "plt.xlabel('Latitude')\n",
    "plt.ylabel('Cloudiness (%)')\n",
    "plt.title(f'Southern Hempisphere Cloudiness Vs. Latitude Linerar Regression ({plot_date})')\n",
    "plt.show()"
   ]
  },
  {
   "cell_type": "markdown",
   "metadata": {},
   "source": [
    "* **This plot shows the Cloudiness for the Southern Hemisphere on a the same day for all cities in the data set based on their latitude. Included is line representing the Linerar Regression showing that the Cloudiness increases as the lattitude Increases (gets closer to the equator)."
   ]
  },
  {
   "cell_type": "markdown",
   "metadata": {},
   "source": [
    "####  Northern Hemisphere - Wind Speed (mph) vs. Latitude Linear Regression"
   ]
  },
  {
   "cell_type": "code",
   "execution_count": null,
   "metadata": {},
   "outputs": [],
   "source": [
    "(slope, intercept, rvalue, pvalue, stderr) = linregress(nh_df['Lat'], nh_df['Wind Speed'])\n",
    "regress_values =nh_df['Lat'] * slope + intercept\n",
    "line_eq = \"y = \" + str(round(slope,2)) + \"x + \" + str(round(intercept,2))\n",
    "plt.scatter(nh_df['Lat'],nh_df['Wind Speed'])\n",
    "plt.plot(nh_df['Lat'],regress_values,\"r-\")\n",
    "plt.ylim(0, 50)\n",
    "plt.xlim(-5, 80)\n",
    "plt.xlabel('Latitude')\n",
    "plt.ylabel('Wind Speed (%)')\n",
    "plt.title(f'Northern Hempisphere Wind Speed Vs. Latitude Linerar Regression ({plot_date})')\n",
    "plt.show()"
   ]
  },
  {
   "cell_type": "markdown",
   "metadata": {},
   "source": [
    "* **This plot shows the Wind Speed for the Northern Hemisphere on a the same day for all cities in the data set based on their latitude. Included is line representing the Linerar Regression showing that the Wind Speed stays the same as the lattitude Increases (gets further away from the equator)."
   ]
  },
  {
   "cell_type": "markdown",
   "metadata": {},
   "source": [
    "####  Southern Hemisphere - Wind Speed (mph) vs. Latitude Linear Regression"
   ]
  },
  {
   "cell_type": "code",
   "execution_count": null,
   "metadata": {},
   "outputs": [],
   "source": [
    "(slope, intercept, rvalue, pvalue, stderr) = linregress(sh_df['Lat'], sh_df['Wind Speed'])\n",
    "regress_values = sh_df['Lat'] * slope + intercept\n",
    "line_eq = \"y = \" + str(round(slope,2)) + \"x + \" + str(round(intercept,2))\n",
    "plt.scatter(sh_df['Lat'], sh_df['Wind Speed'])\n",
    "plt.plot(sh_df['Lat'],regress_values,\"r-\")\n",
    "plt.ylim(0, 50)\n",
    "plt.xlim(-80, 5)\n",
    "plt.xlabel('Latitude')\n",
    "plt.ylabel('Wind Speed (%)')\n",
    "plt.title(f'Southern Hempisphere Wind Speed Vs. Latitude Linerar Regression ({plot_date})')\n",
    "plt.show()"
   ]
  },
  {
   "cell_type": "markdown",
   "metadata": {},
   "source": [
    "* **This plot shows the Wind Speed for the Southern Hemisphere on a the same day for all cities in the data set based on their latitude. Included is line representing the Linerar Regression showing that the Wind Speed decreases as the lattitude Increases (gets closer to the equator)."
   ]
  }
 ],
 "metadata": {
  "anaconda-cloud": {},
  "kernel_info": {
   "name": "python3"
  },
  "kernelspec": {
   "display_name": "Python 3",
   "language": "python",
   "name": "python3"
  },
  "language_info": {
   "codemirror_mode": {
    "name": "ipython",
    "version": 3
   },
   "file_extension": ".py",
   "mimetype": "text/x-python",
   "name": "python",
   "nbconvert_exporter": "python",
   "pygments_lexer": "ipython3",
   "version": "3.8.3"
  },
  "latex_envs": {
   "LaTeX_envs_menu_present": true,
   "autoclose": false,
   "autocomplete": true,
   "bibliofile": "biblio.bib",
   "cite_by": "apalike",
   "current_citInitial": 1,
   "eqLabelWithNumbers": true,
   "eqNumInitial": 1,
   "hotkeys": {
    "equation": "Ctrl-E",
    "itemize": "Ctrl-I"
   },
   "labels_anchors": false,
   "latex_user_defs": false,
   "report_style_numbering": false,
   "user_envs_cfg": false
  },
  "nteract": {
   "version": "0.12.3"
  }
 },
 "nbformat": 4,
 "nbformat_minor": 2
}
